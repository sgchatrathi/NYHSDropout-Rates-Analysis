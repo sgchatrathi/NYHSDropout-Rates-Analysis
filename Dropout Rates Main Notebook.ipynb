{
 "cells": [
  {
   "cell_type": "markdown",
   "metadata": {},
   "source": [
    "# A Deeper Dive into Dropout Rates\n",
    "#### By: Samira Chatrathi"
   ]
  },
  {
   "cell_type": "markdown",
   "metadata": {},
   "source": [
    "# Business Understanding\n"
   ]
  },
  {
   "cell_type": "markdown",
   "metadata": {},
   "source": [
    "The New York State Education Department deems their mission as a government organization to supervise all public schools in New York, working to build the opportunity for all students within NY State regardless of their background. While this mission is lofty and seemingly holistic, bureaucratic factors tend to work against the schools themselves, focusing on superintendent promotion rather than the long term achievement of all students. In a study conducted by the NY Times, more than 120,000 students have left New York City public schools over the past five years. With the varying levels of COVID-19 surges across the state of NY state, educators and legislators need to focus on how they can improve communities with high dropout rates as well as understand what keeps a student engaged within a high school program and what doesn’t. I have tailored this project towards a member of the New York State Board of Education looking to understand which demographic factors are associated with higher high school dropout rates and which demographic factors are associated with lower dropout rates. Due to the sensitivity of these demographic factors this modeling process is for inferential purposes. The assumption that correlation is not equivalent to causation should be held throughout this modeling process and understanding. "
   ]
  },
  {
   "cell_type": "markdown",
   "metadata": {},
   "source": [
    "# Exploratory Data Analysis"
   ]
  },
  {
   "cell_type": "markdown",
   "metadata": {},
   "source": [
    "I gathered data from the NYSED system over 3 different school years containing data from 5 separate calendar years. I was able to stack the demographics as well as the dropout rates associated with each column to see demographic trends associated with dropout rates. In this notebook, I will clean the data sets to focus specifically with the percentage variables. I will also focus on the target variable, percentage dropout and bin it into areas of low-risk, medium-risk, and high-risk. "
   ]
  },
  {
   "cell_type": "code",
   "execution_count": 2,
   "metadata": {},
   "outputs": [],
   "source": [
    "import pandas as pd\n",
    "import numpy as np\n",
    "import matplotlib.pyplot as plot\n",
    "import seaborn as sns"
   ]
  },
  {
   "cell_type": "code",
   "execution_count": 3,
   "metadata": {},
   "outputs": [],
   "source": [
    "df = pd.read_csv('3yrdemstack') #load in master for demographic set\n"
   ]
  },
  {
   "cell_type": "code",
   "execution_count": 4,
   "metadata": {},
   "outputs": [
    {
     "name": "stdout",
     "output_type": "stream",
     "text": [
      "<class 'pandas.core.frame.DataFrame'>\n",
      "RangeIndex: 154937 entries, 0 to 154936\n",
      "Data columns (total 41 columns):\n",
      " #   Column                 Non-Null Count   Dtype  \n",
      "---  ------                 --------------   -----  \n",
      " 0   Unnamed: 0             154937 non-null  int64  \n",
      " 1   Unnamed: 0.1           154937 non-null  int64  \n",
      " 2   ENTITY_CD_x            154937 non-null  int64  \n",
      " 3   ENTITY_NAME            154937 non-null  object \n",
      " 4   YEAR_x                 154937 non-null  int64  \n",
      " 5   NUM_FREE_LUNCH         154937 non-null  int64  \n",
      " 6   PER_FREE_LUNCH         154937 non-null  int64  \n",
      " 7   NUM_REDUCED_LUNCH      154937 non-null  int64  \n",
      " 8   PER_REDUCED_LUNCH      154937 non-null  int64  \n",
      " 9   NUM_LEP                154937 non-null  int64  \n",
      " 10  PER_LEP                154937 non-null  int64  \n",
      " 11  NUM_AM_IND             154937 non-null  int64  \n",
      " 12  PER_AM_IND             154937 non-null  int64  \n",
      " 13  NUM_BLACK              154937 non-null  int64  \n",
      " 14  PER_BLACK              154937 non-null  int64  \n",
      " 15  NUM_HISP               154937 non-null  int64  \n",
      " 16  PER_HISP               154937 non-null  int64  \n",
      " 17  NUM_ASIAN              154937 non-null  int64  \n",
      " 18  PER_ASIAN              154937 non-null  int64  \n",
      " 19  NUM_WHITE              154937 non-null  int64  \n",
      " 20  PER_WHITE              154937 non-null  int64  \n",
      " 21  NUM_Multi              154937 non-null  int64  \n",
      " 22  PER_Multi              154937 non-null  int64  \n",
      " 23  NUM_SWD                137518 non-null  float64\n",
      " 24  PER_SWD                137518 non-null  float64\n",
      " 25  NUM_FEMALE             137518 non-null  float64\n",
      " 26  PER_FEMALE             137518 non-null  float64\n",
      " 27  NUM_MALE               137518 non-null  float64\n",
      " 28  PER_MALE               137518 non-null  float64\n",
      " 29  NUM_ECDIS              137518 non-null  float64\n",
      " 30  PER_ECDIS              137518 non-null  float64\n",
      " 31  ENTITY_CD_y            154937 non-null  int64  \n",
      " 32  YEAR_y                 154937 non-null  int64  \n",
      " 33  SUBGROUP_NAME          154937 non-null  object \n",
      " 34  DROPOUT                154937 non-null  object \n",
      " 35  PER_DROPOUT            154401 non-null  object \n",
      " 36  EQUIV                  154937 non-null  object \n",
      " 37  PER_EQUIV              154401 non-null  object \n",
      " 38  TOTALNON               154937 non-null  object \n",
      " 39  PER_TOTALNON           154401 non-null  object \n",
      " 40  TOTAL_ENROLLMENT_BASE  154937 non-null  int64  \n",
      "dtypes: float64(8), int64(25), object(8)\n",
      "memory usage: 48.5+ MB\n"
     ]
    }
   ],
   "source": [
    "df.info()"
   ]
  },
  {
   "cell_type": "code",
   "execution_count": null,
   "metadata": {},
   "outputs": [],
   "source": [
    "\n"
   ]
  },
  {
   "cell_type": "code",
   "execution_count": 5,
   "metadata": {},
   "outputs": [
    {
     "data": {
      "text/plain": [
       "2014    51877\n",
       "2013    34466\n",
       "2015    34086\n",
       "2012    17419\n",
       "2016    17089\n",
       "Name: YEAR_x, dtype: int64"
      ]
     },
     "execution_count": 5,
     "metadata": {},
     "output_type": "execute_result"
    }
   ],
   "source": [
    "df['YEAR_x'].value_counts()"
   ]
  },
  {
   "cell_type": "code",
   "execution_count": 6,
   "metadata": {},
   "outputs": [
    {
     "data": {
      "text/plain": [
       "2014    51675\n",
       "2015    34065\n",
       "2013    34046\n",
       "2012    18159\n",
       "2016    16992\n",
       "Name: YEAR_y, dtype: int64"
      ]
     },
     "execution_count": 6,
     "metadata": {},
     "output_type": "execute_result"
    }
   ],
   "source": [
    "df['YEAR_y'].value_counts()"
   ]
  },
  {
   "cell_type": "markdown",
   "metadata": {},
   "source": [
    "# Cleaning Target Variable"
   ]
  },
  {
   "cell_type": "code",
   "execution_count": 7,
   "metadata": {},
   "outputs": [
    {
     "data": {
      "text/plain": [
       "count     154401\n",
       "unique       101\n",
       "top            s\n",
       "freq       71074\n",
       "Name: PER_DROPOUT, dtype: object"
      ]
     },
     "execution_count": 7,
     "metadata": {},
     "output_type": "execute_result"
    }
   ],
   "source": [
    "df['PER_DROPOUT'].describe()"
   ]
  },
  {
   "cell_type": "code",
   "execution_count": 8,
   "metadata": {},
   "outputs": [
    {
     "data": {
      "text/plain": [
       "s     71074\n",
       "01    15111\n",
       "02    14626\n",
       "03    11012\n",
       "04     7767\n",
       "      ...  \n",
       "72        2\n",
       "83        1\n",
       "70        1\n",
       "80        1\n",
       "78        1\n",
       "Name: PER_DROPOUT, Length: 101, dtype: int64"
      ]
     },
     "execution_count": 8,
     "metadata": {},
     "output_type": "execute_result"
    }
   ],
   "source": [
    "df['PER_DROPOUT'].value_counts()"
   ]
  },
  {
   "cell_type": "code",
   "execution_count": 9,
   "metadata": {},
   "outputs": [
    {
     "data": {
      "text/html": [
       "<div>\n",
       "<style scoped>\n",
       "    .dataframe tbody tr th:only-of-type {\n",
       "        vertical-align: middle;\n",
       "    }\n",
       "\n",
       "    .dataframe tbody tr th {\n",
       "        vertical-align: top;\n",
       "    }\n",
       "\n",
       "    .dataframe thead th {\n",
       "        text-align: right;\n",
       "    }\n",
       "</style>\n",
       "<table border=\"1\" class=\"dataframe\">\n",
       "  <thead>\n",
       "    <tr style=\"text-align: right;\">\n",
       "      <th></th>\n",
       "      <th>Unnamed: 0</th>\n",
       "      <th>Unnamed: 0.1</th>\n",
       "      <th>ENTITY_CD_x</th>\n",
       "      <th>ENTITY_NAME</th>\n",
       "      <th>YEAR_x</th>\n",
       "      <th>NUM_FREE_LUNCH</th>\n",
       "      <th>PER_FREE_LUNCH</th>\n",
       "      <th>NUM_REDUCED_LUNCH</th>\n",
       "      <th>PER_REDUCED_LUNCH</th>\n",
       "      <th>NUM_LEP</th>\n",
       "      <th>...</th>\n",
       "      <th>ENTITY_CD_y</th>\n",
       "      <th>YEAR_y</th>\n",
       "      <th>SUBGROUP_NAME</th>\n",
       "      <th>DROPOUT</th>\n",
       "      <th>PER_DROPOUT</th>\n",
       "      <th>EQUIV</th>\n",
       "      <th>PER_EQUIV</th>\n",
       "      <th>TOTALNON</th>\n",
       "      <th>PER_TOTALNON</th>\n",
       "      <th>TOTAL_ENROLLMENT_BASE</th>\n",
       "    </tr>\n",
       "  </thead>\n",
       "  <tbody>\n",
       "    <tr>\n",
       "      <th>246</th>\n",
       "      <td>246</td>\n",
       "      <td>246</td>\n",
       "      <td>310300011485</td>\n",
       "      <td>FIORELLO H LAGUARDIA HIGH SCHOOL OF MUSIC, ART...</td>\n",
       "      <td>2012</td>\n",
       "      <td>530</td>\n",
       "      <td>20</td>\n",
       "      <td>214</td>\n",
       "      <td>8</td>\n",
       "      <td>4</td>\n",
       "      <td>...</td>\n",
       "      <td>310300011485</td>\n",
       "      <td>2013</td>\n",
       "      <td>All Students</td>\n",
       "      <td>s</td>\n",
       "      <td>s</td>\n",
       "      <td>s</td>\n",
       "      <td>s</td>\n",
       "      <td>s</td>\n",
       "      <td>s</td>\n",
       "      <td>2694</td>\n",
       "    </tr>\n",
       "    <tr>\n",
       "      <th>247</th>\n",
       "      <td>247</td>\n",
       "      <td>247</td>\n",
       "      <td>310300011485</td>\n",
       "      <td>FIORELLO H LAGUARDIA HIGH SCHOOL OF MUSIC, ART...</td>\n",
       "      <td>2012</td>\n",
       "      <td>530</td>\n",
       "      <td>20</td>\n",
       "      <td>214</td>\n",
       "      <td>8</td>\n",
       "      <td>4</td>\n",
       "      <td>...</td>\n",
       "      <td>310300011485</td>\n",
       "      <td>2013</td>\n",
       "      <td>General Education</td>\n",
       "      <td>s</td>\n",
       "      <td>s</td>\n",
       "      <td>s</td>\n",
       "      <td>s</td>\n",
       "      <td>s</td>\n",
       "      <td>s</td>\n",
       "      <td>2647</td>\n",
       "    </tr>\n",
       "    <tr>\n",
       "      <th>248</th>\n",
       "      <td>248</td>\n",
       "      <td>248</td>\n",
       "      <td>310300011485</td>\n",
       "      <td>FIORELLO H LAGUARDIA HIGH SCHOOL OF MUSIC, ART...</td>\n",
       "      <td>2012</td>\n",
       "      <td>530</td>\n",
       "      <td>20</td>\n",
       "      <td>214</td>\n",
       "      <td>8</td>\n",
       "      <td>4</td>\n",
       "      <td>...</td>\n",
       "      <td>310300011485</td>\n",
       "      <td>2013</td>\n",
       "      <td>Students with Disabilities</td>\n",
       "      <td>s</td>\n",
       "      <td>s</td>\n",
       "      <td>s</td>\n",
       "      <td>s</td>\n",
       "      <td>s</td>\n",
       "      <td>s</td>\n",
       "      <td>47</td>\n",
       "    </tr>\n",
       "    <tr>\n",
       "      <th>249</th>\n",
       "      <td>249</td>\n",
       "      <td>249</td>\n",
       "      <td>310300011485</td>\n",
       "      <td>FIORELLO H LAGUARDIA HIGH SCHOOL OF MUSIC, ART...</td>\n",
       "      <td>2012</td>\n",
       "      <td>530</td>\n",
       "      <td>20</td>\n",
       "      <td>214</td>\n",
       "      <td>8</td>\n",
       "      <td>4</td>\n",
       "      <td>...</td>\n",
       "      <td>310300011485</td>\n",
       "      <td>2014</td>\n",
       "      <td>All Students</td>\n",
       "      <td>s</td>\n",
       "      <td>s</td>\n",
       "      <td>s</td>\n",
       "      <td>s</td>\n",
       "      <td>s</td>\n",
       "      <td>s</td>\n",
       "      <td>2729</td>\n",
       "    </tr>\n",
       "    <tr>\n",
       "      <th>250</th>\n",
       "      <td>250</td>\n",
       "      <td>250</td>\n",
       "      <td>310300011485</td>\n",
       "      <td>FIORELLO H LAGUARDIA HIGH SCHOOL OF MUSIC, ART...</td>\n",
       "      <td>2012</td>\n",
       "      <td>530</td>\n",
       "      <td>20</td>\n",
       "      <td>214</td>\n",
       "      <td>8</td>\n",
       "      <td>4</td>\n",
       "      <td>...</td>\n",
       "      <td>310300011485</td>\n",
       "      <td>2014</td>\n",
       "      <td>General Education</td>\n",
       "      <td>s</td>\n",
       "      <td>s</td>\n",
       "      <td>s</td>\n",
       "      <td>s</td>\n",
       "      <td>s</td>\n",
       "      <td>s</td>\n",
       "      <td>2663</td>\n",
       "    </tr>\n",
       "    <tr>\n",
       "      <th>...</th>\n",
       "      <td>...</td>\n",
       "      <td>...</td>\n",
       "      <td>...</td>\n",
       "      <td>...</td>\n",
       "      <td>...</td>\n",
       "      <td>...</td>\n",
       "      <td>...</td>\n",
       "      <td>...</td>\n",
       "      <td>...</td>\n",
       "      <td>...</td>\n",
       "      <td>...</td>\n",
       "      <td>...</td>\n",
       "      <td>...</td>\n",
       "      <td>...</td>\n",
       "      <td>...</td>\n",
       "      <td>...</td>\n",
       "      <td>...</td>\n",
       "      <td>...</td>\n",
       "      <td>...</td>\n",
       "      <td>...</td>\n",
       "      <td>...</td>\n",
       "    </tr>\n",
       "    <tr>\n",
       "      <th>154927</th>\n",
       "      <td>51330</td>\n",
       "      <td>51330</td>\n",
       "      <td>641001040001</td>\n",
       "      <td>HARTFORD CENTRAL SCHOOL</td>\n",
       "      <td>2014</td>\n",
       "      <td>125</td>\n",
       "      <td>27</td>\n",
       "      <td>29</td>\n",
       "      <td>6</td>\n",
       "      <td>0</td>\n",
       "      <td>...</td>\n",
       "      <td>641001040001</td>\n",
       "      <td>2014</td>\n",
       "      <td>General Education</td>\n",
       "      <td>s</td>\n",
       "      <td>s</td>\n",
       "      <td>s</td>\n",
       "      <td>s</td>\n",
       "      <td>s</td>\n",
       "      <td>s</td>\n",
       "      <td>136</td>\n",
       "    </tr>\n",
       "    <tr>\n",
       "      <th>154929</th>\n",
       "      <td>51332</td>\n",
       "      <td>51332</td>\n",
       "      <td>651201060003</td>\n",
       "      <td>SODUS HIGH SCHOOL</td>\n",
       "      <td>2014</td>\n",
       "      <td>91</td>\n",
       "      <td>26</td>\n",
       "      <td>29</td>\n",
       "      <td>8</td>\n",
       "      <td>6</td>\n",
       "      <td>...</td>\n",
       "      <td>651201060003</td>\n",
       "      <td>2014</td>\n",
       "      <td>General Education</td>\n",
       "      <td>s</td>\n",
       "      <td>s</td>\n",
       "      <td>s</td>\n",
       "      <td>s</td>\n",
       "      <td>s</td>\n",
       "      <td>s</td>\n",
       "      <td>299</td>\n",
       "    </tr>\n",
       "    <tr>\n",
       "      <th>154930</th>\n",
       "      <td>51333</td>\n",
       "      <td>51333</td>\n",
       "      <td>651201060003</td>\n",
       "      <td>SODUS HIGH SCHOOL</td>\n",
       "      <td>2014</td>\n",
       "      <td>91</td>\n",
       "      <td>26</td>\n",
       "      <td>29</td>\n",
       "      <td>8</td>\n",
       "      <td>6</td>\n",
       "      <td>...</td>\n",
       "      <td>651201060003</td>\n",
       "      <td>2014</td>\n",
       "      <td>Students with Disabilities</td>\n",
       "      <td>s</td>\n",
       "      <td>s</td>\n",
       "      <td>s</td>\n",
       "      <td>s</td>\n",
       "      <td>s</td>\n",
       "      <td>s</td>\n",
       "      <td>45</td>\n",
       "    </tr>\n",
       "    <tr>\n",
       "      <th>154932</th>\n",
       "      <td>51335</td>\n",
       "      <td>51335</td>\n",
       "      <td>662300010043</td>\n",
       "      <td>EARLY COLLEGE HIGH SCHOOL</td>\n",
       "      <td>2014</td>\n",
       "      <td>586</td>\n",
       "      <td>79</td>\n",
       "      <td>48</td>\n",
       "      <td>7</td>\n",
       "      <td>74</td>\n",
       "      <td>...</td>\n",
       "      <td>662300010043</td>\n",
       "      <td>2014</td>\n",
       "      <td>General Education</td>\n",
       "      <td>s</td>\n",
       "      <td>s</td>\n",
       "      <td>s</td>\n",
       "      <td>s</td>\n",
       "      <td>s</td>\n",
       "      <td>s</td>\n",
       "      <td>621</td>\n",
       "    </tr>\n",
       "    <tr>\n",
       "      <th>154933</th>\n",
       "      <td>51336</td>\n",
       "      <td>51336</td>\n",
       "      <td>662300010043</td>\n",
       "      <td>EARLY COLLEGE HIGH SCHOOL</td>\n",
       "      <td>2014</td>\n",
       "      <td>586</td>\n",
       "      <td>79</td>\n",
       "      <td>48</td>\n",
       "      <td>7</td>\n",
       "      <td>74</td>\n",
       "      <td>...</td>\n",
       "      <td>662300010043</td>\n",
       "      <td>2014</td>\n",
       "      <td>Students with Disabilities</td>\n",
       "      <td>s</td>\n",
       "      <td>s</td>\n",
       "      <td>s</td>\n",
       "      <td>s</td>\n",
       "      <td>s</td>\n",
       "      <td>s</td>\n",
       "      <td>117</td>\n",
       "    </tr>\n",
       "  </tbody>\n",
       "</table>\n",
       "<p>71074 rows × 41 columns</p>\n",
       "</div>"
      ],
      "text/plain": [
       "        Unnamed: 0  Unnamed: 0.1   ENTITY_CD_x  \\\n",
       "246            246           246  310300011485   \n",
       "247            247           247  310300011485   \n",
       "248            248           248  310300011485   \n",
       "249            249           249  310300011485   \n",
       "250            250           250  310300011485   \n",
       "...            ...           ...           ...   \n",
       "154927       51330         51330  641001040001   \n",
       "154929       51332         51332  651201060003   \n",
       "154930       51333         51333  651201060003   \n",
       "154932       51335         51335  662300010043   \n",
       "154933       51336         51336  662300010043   \n",
       "\n",
       "                                              ENTITY_NAME  YEAR_x  \\\n",
       "246     FIORELLO H LAGUARDIA HIGH SCHOOL OF MUSIC, ART...    2012   \n",
       "247     FIORELLO H LAGUARDIA HIGH SCHOOL OF MUSIC, ART...    2012   \n",
       "248     FIORELLO H LAGUARDIA HIGH SCHOOL OF MUSIC, ART...    2012   \n",
       "249     FIORELLO H LAGUARDIA HIGH SCHOOL OF MUSIC, ART...    2012   \n",
       "250     FIORELLO H LAGUARDIA HIGH SCHOOL OF MUSIC, ART...    2012   \n",
       "...                                                   ...     ...   \n",
       "154927                            HARTFORD CENTRAL SCHOOL    2014   \n",
       "154929                                  SODUS HIGH SCHOOL    2014   \n",
       "154930                                  SODUS HIGH SCHOOL    2014   \n",
       "154932                          EARLY COLLEGE HIGH SCHOOL    2014   \n",
       "154933                          EARLY COLLEGE HIGH SCHOOL    2014   \n",
       "\n",
       "        NUM_FREE_LUNCH  PER_FREE_LUNCH  NUM_REDUCED_LUNCH  PER_REDUCED_LUNCH  \\\n",
       "246                530              20                214                  8   \n",
       "247                530              20                214                  8   \n",
       "248                530              20                214                  8   \n",
       "249                530              20                214                  8   \n",
       "250                530              20                214                  8   \n",
       "...                ...             ...                ...                ...   \n",
       "154927             125              27                 29                  6   \n",
       "154929              91              26                 29                  8   \n",
       "154930              91              26                 29                  8   \n",
       "154932             586              79                 48                  7   \n",
       "154933             586              79                 48                  7   \n",
       "\n",
       "        NUM_LEP  ...   ENTITY_CD_y  YEAR_y               SUBGROUP_NAME  \\\n",
       "246           4  ...  310300011485    2013                All Students   \n",
       "247           4  ...  310300011485    2013           General Education   \n",
       "248           4  ...  310300011485    2013  Students with Disabilities   \n",
       "249           4  ...  310300011485    2014                All Students   \n",
       "250           4  ...  310300011485    2014           General Education   \n",
       "...         ...  ...           ...     ...                         ...   \n",
       "154927        0  ...  641001040001    2014           General Education   \n",
       "154929        6  ...  651201060003    2014           General Education   \n",
       "154930        6  ...  651201060003    2014  Students with Disabilities   \n",
       "154932       74  ...  662300010043    2014           General Education   \n",
       "154933       74  ...  662300010043    2014  Students with Disabilities   \n",
       "\n",
       "        DROPOUT  PER_DROPOUT  EQUIV  PER_EQUIV  TOTALNON  PER_TOTALNON  \\\n",
       "246           s            s      s          s         s             s   \n",
       "247           s            s      s          s         s             s   \n",
       "248           s            s      s          s         s             s   \n",
       "249           s            s      s          s         s             s   \n",
       "250           s            s      s          s         s             s   \n",
       "...         ...          ...    ...        ...       ...           ...   \n",
       "154927        s            s      s          s         s             s   \n",
       "154929        s            s      s          s         s             s   \n",
       "154930        s            s      s          s         s             s   \n",
       "154932        s            s      s          s         s             s   \n",
       "154933        s            s      s          s         s             s   \n",
       "\n",
       "        TOTAL_ENROLLMENT_BASE  \n",
       "246                      2694  \n",
       "247                      2647  \n",
       "248                        47  \n",
       "249                      2729  \n",
       "250                      2663  \n",
       "...                       ...  \n",
       "154927                    136  \n",
       "154929                    299  \n",
       "154930                     45  \n",
       "154932                    621  \n",
       "154933                    117  \n",
       "\n",
       "[71074 rows x 41 columns]"
      ]
     },
     "execution_count": 9,
     "metadata": {},
     "output_type": "execute_result"
    }
   ],
   "source": [
    "#code for sorting the values... input what you need inplace of this cell\n",
    "df[df['PER_DROPOUT'] == 's']"
   ]
  },
  {
   "cell_type": "code",
   "execution_count": 10,
   "metadata": {},
   "outputs": [
    {
     "data": {
      "text/plain": [
       "01    15111\n",
       "02    14626\n",
       "03    11012\n",
       "04     7767\n",
       "00     7134\n",
       "      ...  \n",
       "72        2\n",
       "83        1\n",
       "70        1\n",
       "80        1\n",
       "78        1\n",
       "Name: PER_DROPOUT, Length: 100, dtype: int64"
      ]
     },
     "execution_count": 10,
     "metadata": {},
     "output_type": "execute_result"
    }
   ],
   "source": [
    "df1 = df[df['PER_DROPOUT'] != 's'] #dropping the targets that are labeled as s instead\n",
    "df1['PER_DROPOUT'].value_counts()"
   ]
  },
  {
   "cell_type": "code",
   "execution_count": null,
   "metadata": {},
   "outputs": [],
   "source": []
  },
  {
   "cell_type": "code",
   "execution_count": 11,
   "metadata": {},
   "outputs": [
    {
     "data": {
      "text/html": [
       "<div>\n",
       "<style scoped>\n",
       "    .dataframe tbody tr th:only-of-type {\n",
       "        vertical-align: middle;\n",
       "    }\n",
       "\n",
       "    .dataframe tbody tr th {\n",
       "        vertical-align: top;\n",
       "    }\n",
       "\n",
       "    .dataframe thead th {\n",
       "        text-align: right;\n",
       "    }\n",
       "</style>\n",
       "<table border=\"1\" class=\"dataframe\">\n",
       "  <thead>\n",
       "    <tr style=\"text-align: right;\">\n",
       "      <th></th>\n",
       "      <th>Unnamed: 0</th>\n",
       "      <th>Unnamed: 0.1</th>\n",
       "      <th>ENTITY_CD_x</th>\n",
       "      <th>ENTITY_NAME</th>\n",
       "      <th>YEAR_x</th>\n",
       "      <th>NUM_FREE_LUNCH</th>\n",
       "      <th>PER_FREE_LUNCH</th>\n",
       "      <th>NUM_REDUCED_LUNCH</th>\n",
       "      <th>PER_REDUCED_LUNCH</th>\n",
       "      <th>NUM_LEP</th>\n",
       "      <th>...</th>\n",
       "      <th>ENTITY_CD_y</th>\n",
       "      <th>YEAR_y</th>\n",
       "      <th>SUBGROUP_NAME</th>\n",
       "      <th>DROPOUT</th>\n",
       "      <th>PER_DROPOUT</th>\n",
       "      <th>EQUIV</th>\n",
       "      <th>PER_EQUIV</th>\n",
       "      <th>TOTALNON</th>\n",
       "      <th>PER_TOTALNON</th>\n",
       "      <th>TOTAL_ENROLLMENT_BASE</th>\n",
       "    </tr>\n",
       "  </thead>\n",
       "  <tbody>\n",
       "    <tr>\n",
       "      <th>0</th>\n",
       "      <td>0</td>\n",
       "      <td>0</td>\n",
       "      <td>1</td>\n",
       "      <td>NYC Public Schools</td>\n",
       "      <td>2013</td>\n",
       "      <td>578885</td>\n",
       "      <td>60</td>\n",
       "      <td>64793</td>\n",
       "      <td>7</td>\n",
       "      <td>143664</td>\n",
       "      <td>...</td>\n",
       "      <td>1</td>\n",
       "      <td>2014</td>\n",
       "      <td>All Students</td>\n",
       "      <td>13812</td>\n",
       "      <td>05</td>\n",
       "      <td>1209</td>\n",
       "      <td>00</td>\n",
       "      <td>15021</td>\n",
       "      <td>05</td>\n",
       "      <td>301043</td>\n",
       "    </tr>\n",
       "    <tr>\n",
       "      <th>1</th>\n",
       "      <td>1</td>\n",
       "      <td>1</td>\n",
       "      <td>1</td>\n",
       "      <td>NYC Public Schools</td>\n",
       "      <td>2013</td>\n",
       "      <td>578885</td>\n",
       "      <td>60</td>\n",
       "      <td>64793</td>\n",
       "      <td>7</td>\n",
       "      <td>143664</td>\n",
       "      <td>...</td>\n",
       "      <td>1</td>\n",
       "      <td>2014</td>\n",
       "      <td>General Education</td>\n",
       "      <td>10466</td>\n",
       "      <td>04</td>\n",
       "      <td>931</td>\n",
       "      <td>00</td>\n",
       "      <td>11397</td>\n",
       "      <td>05</td>\n",
       "      <td>247315</td>\n",
       "    </tr>\n",
       "    <tr>\n",
       "      <th>2</th>\n",
       "      <td>2</td>\n",
       "      <td>2</td>\n",
       "      <td>1</td>\n",
       "      <td>NYC Public Schools</td>\n",
       "      <td>2013</td>\n",
       "      <td>578885</td>\n",
       "      <td>60</td>\n",
       "      <td>64793</td>\n",
       "      <td>7</td>\n",
       "      <td>143664</td>\n",
       "      <td>...</td>\n",
       "      <td>1</td>\n",
       "      <td>2014</td>\n",
       "      <td>Students with Disabilities</td>\n",
       "      <td>3346</td>\n",
       "      <td>06</td>\n",
       "      <td>278</td>\n",
       "      <td>01</td>\n",
       "      <td>3624</td>\n",
       "      <td>07</td>\n",
       "      <td>53728</td>\n",
       "    </tr>\n",
       "    <tr>\n",
       "      <th>3</th>\n",
       "      <td>3</td>\n",
       "      <td>3</td>\n",
       "      <td>1</td>\n",
       "      <td>NYC Public Schools</td>\n",
       "      <td>2013</td>\n",
       "      <td>578885</td>\n",
       "      <td>60</td>\n",
       "      <td>64793</td>\n",
       "      <td>7</td>\n",
       "      <td>143664</td>\n",
       "      <td>...</td>\n",
       "      <td>1</td>\n",
       "      <td>2013</td>\n",
       "      <td>All Students</td>\n",
       "      <td>15431</td>\n",
       "      <td>05</td>\n",
       "      <td>1573</td>\n",
       "      <td>01</td>\n",
       "      <td>17004</td>\n",
       "      <td>05</td>\n",
       "      <td>311619</td>\n",
       "    </tr>\n",
       "    <tr>\n",
       "      <th>4</th>\n",
       "      <td>4</td>\n",
       "      <td>4</td>\n",
       "      <td>1</td>\n",
       "      <td>NYC Public Schools</td>\n",
       "      <td>2013</td>\n",
       "      <td>578885</td>\n",
       "      <td>60</td>\n",
       "      <td>64793</td>\n",
       "      <td>7</td>\n",
       "      <td>143664</td>\n",
       "      <td>...</td>\n",
       "      <td>1</td>\n",
       "      <td>2013</td>\n",
       "      <td>General Education</td>\n",
       "      <td>12792</td>\n",
       "      <td>05</td>\n",
       "      <td>1310</td>\n",
       "      <td>01</td>\n",
       "      <td>14102</td>\n",
       "      <td>05</td>\n",
       "      <td>258745</td>\n",
       "    </tr>\n",
       "    <tr>\n",
       "      <th>...</th>\n",
       "      <td>...</td>\n",
       "      <td>...</td>\n",
       "      <td>...</td>\n",
       "      <td>...</td>\n",
       "      <td>...</td>\n",
       "      <td>...</td>\n",
       "      <td>...</td>\n",
       "      <td>...</td>\n",
       "      <td>...</td>\n",
       "      <td>...</td>\n",
       "      <td>...</td>\n",
       "      <td>...</td>\n",
       "      <td>...</td>\n",
       "      <td>...</td>\n",
       "      <td>...</td>\n",
       "      <td>...</td>\n",
       "      <td>...</td>\n",
       "      <td>...</td>\n",
       "      <td>...</td>\n",
       "      <td>...</td>\n",
       "      <td>...</td>\n",
       "    </tr>\n",
       "    <tr>\n",
       "      <th>154928</th>\n",
       "      <td>51331</td>\n",
       "      <td>51331</td>\n",
       "      <td>651201060003</td>\n",
       "      <td>SODUS HIGH SCHOOL</td>\n",
       "      <td>2014</td>\n",
       "      <td>91</td>\n",
       "      <td>26</td>\n",
       "      <td>29</td>\n",
       "      <td>8</td>\n",
       "      <td>6</td>\n",
       "      <td>...</td>\n",
       "      <td>651201060003</td>\n",
       "      <td>2014</td>\n",
       "      <td>All Students</td>\n",
       "      <td>7</td>\n",
       "      <td>02</td>\n",
       "      <td>0</td>\n",
       "      <td>00</td>\n",
       "      <td>7</td>\n",
       "      <td>02</td>\n",
       "      <td>344</td>\n",
       "    </tr>\n",
       "    <tr>\n",
       "      <th>154931</th>\n",
       "      <td>51334</td>\n",
       "      <td>51334</td>\n",
       "      <td>662300010043</td>\n",
       "      <td>EARLY COLLEGE HIGH SCHOOL</td>\n",
       "      <td>2014</td>\n",
       "      <td>586</td>\n",
       "      <td>79</td>\n",
       "      <td>48</td>\n",
       "      <td>7</td>\n",
       "      <td>74</td>\n",
       "      <td>...</td>\n",
       "      <td>662300010043</td>\n",
       "      <td>2014</td>\n",
       "      <td>All Students</td>\n",
       "      <td>15</td>\n",
       "      <td>02</td>\n",
       "      <td>14</td>\n",
       "      <td>02</td>\n",
       "      <td>29</td>\n",
       "      <td>04</td>\n",
       "      <td>738</td>\n",
       "    </tr>\n",
       "    <tr>\n",
       "      <th>154934</th>\n",
       "      <td>51337</td>\n",
       "      <td>51337</td>\n",
       "      <td>321000011660</td>\n",
       "      <td>GRACE DODGE CAREER AND TECHNICAL HIGH SCHOOL</td>\n",
       "      <td>2015</td>\n",
       "      <td>120</td>\n",
       "      <td>69</td>\n",
       "      <td>0</td>\n",
       "      <td>0</td>\n",
       "      <td>46</td>\n",
       "      <td>...</td>\n",
       "      <td>321000011660</td>\n",
       "      <td>2015</td>\n",
       "      <td>All Students</td>\n",
       "      <td>61</td>\n",
       "      <td>35</td>\n",
       "      <td>3</td>\n",
       "      <td>02</td>\n",
       "      <td>64</td>\n",
       "      <td>37</td>\n",
       "      <td>174</td>\n",
       "    </tr>\n",
       "    <tr>\n",
       "      <th>154935</th>\n",
       "      <td>51338</td>\n",
       "      <td>51338</td>\n",
       "      <td>321000011660</td>\n",
       "      <td>GRACE DODGE CAREER AND TECHNICAL HIGH SCHOOL</td>\n",
       "      <td>2015</td>\n",
       "      <td>120</td>\n",
       "      <td>69</td>\n",
       "      <td>0</td>\n",
       "      <td>0</td>\n",
       "      <td>46</td>\n",
       "      <td>...</td>\n",
       "      <td>321000011660</td>\n",
       "      <td>2015</td>\n",
       "      <td>General Education</td>\n",
       "      <td>37</td>\n",
       "      <td>35</td>\n",
       "      <td>3</td>\n",
       "      <td>03</td>\n",
       "      <td>40</td>\n",
       "      <td>37</td>\n",
       "      <td>107</td>\n",
       "    </tr>\n",
       "    <tr>\n",
       "      <th>154936</th>\n",
       "      <td>51339</td>\n",
       "      <td>51339</td>\n",
       "      <td>321000011660</td>\n",
       "      <td>GRACE DODGE CAREER AND TECHNICAL HIGH SCHOOL</td>\n",
       "      <td>2015</td>\n",
       "      <td>120</td>\n",
       "      <td>69</td>\n",
       "      <td>0</td>\n",
       "      <td>0</td>\n",
       "      <td>46</td>\n",
       "      <td>...</td>\n",
       "      <td>321000011660</td>\n",
       "      <td>2015</td>\n",
       "      <td>Students with Disabilities</td>\n",
       "      <td>24</td>\n",
       "      <td>36</td>\n",
       "      <td>0</td>\n",
       "      <td>00</td>\n",
       "      <td>24</td>\n",
       "      <td>36</td>\n",
       "      <td>67</td>\n",
       "    </tr>\n",
       "  </tbody>\n",
       "</table>\n",
       "<p>71802 rows × 41 columns</p>\n",
       "</div>"
      ],
      "text/plain": [
       "        Unnamed: 0  Unnamed: 0.1   ENTITY_CD_x  \\\n",
       "0                0             0             1   \n",
       "1                1             1             1   \n",
       "2                2             2             1   \n",
       "3                3             3             1   \n",
       "4                4             4             1   \n",
       "...            ...           ...           ...   \n",
       "154928       51331         51331  651201060003   \n",
       "154931       51334         51334  662300010043   \n",
       "154934       51337         51337  321000011660   \n",
       "154935       51338         51338  321000011660   \n",
       "154936       51339         51339  321000011660   \n",
       "\n",
       "                                         ENTITY_NAME  YEAR_x  NUM_FREE_LUNCH  \\\n",
       "0                                 NYC Public Schools    2013          578885   \n",
       "1                                 NYC Public Schools    2013          578885   \n",
       "2                                 NYC Public Schools    2013          578885   \n",
       "3                                 NYC Public Schools    2013          578885   \n",
       "4                                 NYC Public Schools    2013          578885   \n",
       "...                                              ...     ...             ...   \n",
       "154928                             SODUS HIGH SCHOOL    2014              91   \n",
       "154931                     EARLY COLLEGE HIGH SCHOOL    2014             586   \n",
       "154934  GRACE DODGE CAREER AND TECHNICAL HIGH SCHOOL    2015             120   \n",
       "154935  GRACE DODGE CAREER AND TECHNICAL HIGH SCHOOL    2015             120   \n",
       "154936  GRACE DODGE CAREER AND TECHNICAL HIGH SCHOOL    2015             120   \n",
       "\n",
       "        PER_FREE_LUNCH  NUM_REDUCED_LUNCH  PER_REDUCED_LUNCH  NUM_LEP  ...  \\\n",
       "0                   60              64793                  7   143664  ...   \n",
       "1                   60              64793                  7   143664  ...   \n",
       "2                   60              64793                  7   143664  ...   \n",
       "3                   60              64793                  7   143664  ...   \n",
       "4                   60              64793                  7   143664  ...   \n",
       "...                ...                ...                ...      ...  ...   \n",
       "154928              26                 29                  8        6  ...   \n",
       "154931              79                 48                  7       74  ...   \n",
       "154934              69                  0                  0       46  ...   \n",
       "154935              69                  0                  0       46  ...   \n",
       "154936              69                  0                  0       46  ...   \n",
       "\n",
       "         ENTITY_CD_y  YEAR_y               SUBGROUP_NAME  DROPOUT  \\\n",
       "0                  1    2014                All Students    13812   \n",
       "1                  1    2014           General Education    10466   \n",
       "2                  1    2014  Students with Disabilities     3346   \n",
       "3                  1    2013                All Students    15431   \n",
       "4                  1    2013           General Education    12792   \n",
       "...              ...     ...                         ...      ...   \n",
       "154928  651201060003    2014                All Students        7   \n",
       "154931  662300010043    2014                All Students       15   \n",
       "154934  321000011660    2015                All Students       61   \n",
       "154935  321000011660    2015           General Education       37   \n",
       "154936  321000011660    2015  Students with Disabilities       24   \n",
       "\n",
       "        PER_DROPOUT  EQUIV  PER_EQUIV  TOTALNON  PER_TOTALNON  \\\n",
       "0                05   1209         00     15021            05   \n",
       "1                04    931         00     11397            05   \n",
       "2                06    278         01      3624            07   \n",
       "3                05   1573         01     17004            05   \n",
       "4                05   1310         01     14102            05   \n",
       "...             ...    ...        ...       ...           ...   \n",
       "154928           02      0         00         7            02   \n",
       "154931           02     14         02        29            04   \n",
       "154934           35      3         02        64            37   \n",
       "154935           35      3         03        40            37   \n",
       "154936           36      0         00        24            36   \n",
       "\n",
       "        TOTAL_ENROLLMENT_BASE  \n",
       "0                      301043  \n",
       "1                      247315  \n",
       "2                       53728  \n",
       "3                      311619  \n",
       "4                      258745  \n",
       "...                       ...  \n",
       "154928                    344  \n",
       "154931                    738  \n",
       "154934                    174  \n",
       "154935                    107  \n",
       "154936                     67  \n",
       "\n",
       "[71802 rows x 41 columns]"
      ]
     },
     "execution_count": 11,
     "metadata": {},
     "output_type": "execute_result"
    }
   ],
   "source": [
    "df1.dropna()"
   ]
  },
  {
   "cell_type": "code",
   "execution_count": null,
   "metadata": {},
   "outputs": [],
   "source": []
  },
  {
   "cell_type": "code",
   "execution_count": 12,
   "metadata": {},
   "outputs": [
    {
     "data": {
      "text/plain": [
       "0         05\n",
       "1         04\n",
       "2         06\n",
       "3         05\n",
       "4         05\n",
       "          ..\n",
       "154928    02\n",
       "154931    02\n",
       "154934    35\n",
       "154935    35\n",
       "154936    36\n",
       "Name: PER_DROPOUT, Length: 83327, dtype: object"
      ]
     },
     "execution_count": 12,
     "metadata": {},
     "output_type": "execute_result"
    }
   ],
   "source": [
    "#focusing on my target variable that I will be using as a percentage val\n",
    "df1['PER_DROPOUT'].dropna()\n"
   ]
  },
  {
   "cell_type": "code",
   "execution_count": 13,
   "metadata": {},
   "outputs": [
    {
     "name": "stdout",
     "output_type": "stream",
     "text": [
      "       Unnamed: 0  Unnamed: 0.1   ENTITY_CD_x  \\\n",
      "569           569           569  331700860879   \n",
      "572           572           572  331700860879   \n",
      "575           575           575  331700860879   \n",
      "862           862           862  353100010072   \n",
      "863           863           863  353100010072   \n",
      "...           ...           ...           ...   \n",
      "50691       50691         50691  321200011388   \n",
      "50698       50698         50698  321200011388   \n",
      "51362       51362         51362  580512030026   \n",
      "51367       51367         51367  580512030026   \n",
      "51372       51372         51372  580512030026   \n",
      "\n",
      "                                            ENTITY_NAME  YEAR_x  \\\n",
      "569      ACHIEVEMENT FIRST CROWN HEIGHTS CHARTER SCHOOL    2012   \n",
      "572      ACHIEVEMENT FIRST CROWN HEIGHTS CHARTER SCHOOL    2013   \n",
      "575      ACHIEVEMENT FIRST CROWN HEIGHTS CHARTER SCHOOL    2014   \n",
      "862                                  IS 72 ROCCO LAURIE    2012   \n",
      "863                                  IS 72 ROCCO LAURIE    2012   \n",
      "...                                                 ...     ...   \n",
      "50691  PAN AMERICAN INTERNATIONAL HIGH SCHOOL AT MONROE    2013   \n",
      "50698  PAN AMERICAN INTERNATIONAL HIGH SCHOOL AT MONROE    2014   \n",
      "51362                                   FRESHMAN CENTER    2012   \n",
      "51367                                   FRESHMAN CENTER    2013   \n",
      "51372                                   FRESHMAN CENTER    2014   \n",
      "\n",
      "       NUM_FREE_LUNCH  PER_FREE_LUNCH  NUM_REDUCED_LUNCH  PER_REDUCED_LUNCH  \\\n",
      "569               496              62                105                 13   \n",
      "572               525              58                164                 18   \n",
      "575               602              64                122                 13   \n",
      "862               833              56                157                 11   \n",
      "863               833              56                157                 11   \n",
      "...               ...             ...                ...                ...   \n",
      "50691             387              97                  0                  0   \n",
      "50698             387              99                  1                  0   \n",
      "51362             481              44                 98                  9   \n",
      "51367             660              60                119                 11   \n",
      "51372             744              61                154                 13   \n",
      "\n",
      "       NUM_LEP  ...   ENTITY_CD_y  YEAR_y               SUBGROUP_NAME  \\\n",
      "569          1  ...  331700860879    2012  Students with Disabilities   \n",
      "572          1  ...  331700860879    2012  Students with Disabilities   \n",
      "575          1  ...  331700860879    2012  Students with Disabilities   \n",
      "862         71  ...  353100010072    2012           General Education   \n",
      "863         71  ...  353100010072    2012  Students with Disabilities   \n",
      "...        ...  ...           ...     ...                         ...   \n",
      "50691      382  ...  321200011388    2012  Students with Disabilities   \n",
      "50698      368  ...  321200011388    2012  Students with Disabilities   \n",
      "51362       69  ...  580512030026    2012  Students with Disabilities   \n",
      "51367       72  ...  580512030026    2012  Students with Disabilities   \n",
      "51372      104  ...  580512030026    2012  Students with Disabilities   \n",
      "\n",
      "       DROPOUT  PER_DROPOUT  EQUIV  PER_EQUIV  TOTALNON  PER_TOTALNON  \\\n",
      "569          0          NaN      0        NaN         0           NaN   \n",
      "572          0          NaN      0        NaN         0           NaN   \n",
      "575          0          NaN      0        NaN         0           NaN   \n",
      "862          0          NaN      0        NaN         0           NaN   \n",
      "863          0          NaN      0        NaN         0           NaN   \n",
      "...        ...          ...    ...        ...       ...           ...   \n",
      "50691        0          NaN      0        NaN         0           NaN   \n",
      "50698        0          NaN      0        NaN         0           NaN   \n",
      "51362        0          NaN      0        NaN         0           NaN   \n",
      "51367        0          NaN      0        NaN         0           NaN   \n",
      "51372        0          NaN      0        NaN         0           NaN   \n",
      "\n",
      "       TOTAL_ENROLLMENT_BASE  \n",
      "569                        0  \n",
      "572                        0  \n",
      "575                        0  \n",
      "862                        0  \n",
      "863                        0  \n",
      "...                      ...  \n",
      "50691                      0  \n",
      "50698                      0  \n",
      "51362                      0  \n",
      "51367                      0  \n",
      "51372                      0  \n",
      "\n",
      "[536 rows x 41 columns]\n"
     ]
    }
   ],
   "source": [
    "print(df1[df1['PER_DROPOUT'].isnull()])"
   ]
  },
  {
   "cell_type": "code",
   "execution_count": 14,
   "metadata": {},
   "outputs": [
    {
     "name": "stderr",
     "output_type": "stream",
     "text": [
      "<ipython-input-14-00742d92beb6>:1: SettingWithCopyWarning: \n",
      "A value is trying to be set on a copy of a slice from a DataFrame.\n",
      "Try using .loc[row_indexer,col_indexer] = value instead\n",
      "\n",
      "See the caveats in the documentation: https://pandas.pydata.org/pandas-docs/stable/user_guide/indexing.html#returning-a-view-versus-a-copy\n",
      "  df1['PER_DROPOUT'] = pd.to_numeric(df1['PER_DROPOUT'], errors='coerce')\n"
     ]
    }
   ],
   "source": [
    "df1['PER_DROPOUT'] = pd.to_numeric(df1['PER_DROPOUT'], errors='coerce')"
   ]
  },
  {
   "cell_type": "code",
   "execution_count": 15,
   "metadata": {},
   "outputs": [],
   "source": [
    "df1 = df1.dropna(subset=['PER_DROPOUT'])"
   ]
  },
  {
   "cell_type": "code",
   "execution_count": null,
   "metadata": {},
   "outputs": [],
   "source": []
  },
  {
   "cell_type": "code",
   "execution_count": 16,
   "metadata": {},
   "outputs": [],
   "source": [
    "df1['PER_DROPOUT'] = df1['PER_DROPOUT'].astype(int)"
   ]
  },
  {
   "cell_type": "markdown",
   "metadata": {},
   "source": [
    "## Binning Target Variable"
   ]
  },
  {
   "cell_type": "code",
   "execution_count": 17,
   "metadata": {},
   "outputs": [
    {
     "data": {
      "text/plain": [
       "count    83327.000000\n",
       "mean         5.938663\n",
       "std         22.980267\n",
       "min          0.000000\n",
       "25%          1.000000\n",
       "50%          3.000000\n",
       "75%          6.000000\n",
       "max       1400.000000\n",
       "Name: PER_DROPOUT, dtype: float64"
      ]
     },
     "execution_count": 17,
     "metadata": {},
     "output_type": "execute_result"
    }
   ],
   "source": [
    "df1['PER_DROPOUT'].describe()"
   ]
  },
  {
   "cell_type": "code",
   "execution_count": 18,
   "metadata": {},
   "outputs": [],
   "source": [
    "#Creating Risk Level Bin\n",
    "#While risk level is spaced out on different tiers, I wanted to make it representative of the data that we have here\n",
    "\n",
    "df1['RiskLevel'] = pd.cut(x=df1['PER_DROPOUT'],\n",
    "                     bins=[0, 3, 8, 100],\n",
    "                     labels=['Low-Risk', 'Mid-Risk', 'High-Risk'])\n",
    "\n"
   ]
  },
  {
   "cell_type": "code",
   "execution_count": null,
   "metadata": {},
   "outputs": [],
   "source": []
  },
  {
   "cell_type": "code",
   "execution_count": 19,
   "metadata": {},
   "outputs": [
    {
     "data": {
      "text/plain": [
       "Low-Risk     40749\n",
       "Mid-Risk     23623\n",
       "High-Risk    11693\n",
       "Name: RiskLevel, dtype: int64"
      ]
     },
     "execution_count": 19,
     "metadata": {},
     "output_type": "execute_result"
    }
   ],
   "source": [
    "df1['RiskLevel'].value_counts() #reassess for class imbalance"
   ]
  },
  {
   "cell_type": "code",
   "execution_count": 20,
   "metadata": {},
   "outputs": [],
   "source": [
    "#code for droppin non useful columns\n",
    "df1 =df1.drop(columns=['Unnamed: 0', 'Unnamed: 0.1', 'ENTITY_CD_x', 'YEAR_y'])\n"
   ]
  },
  {
   "cell_type": "code",
   "execution_count": null,
   "metadata": {},
   "outputs": [],
   "source": []
  },
  {
   "cell_type": "code",
   "execution_count": null,
   "metadata": {},
   "outputs": [],
   "source": []
  },
  {
   "cell_type": "code",
   "execution_count": null,
   "metadata": {},
   "outputs": [],
   "source": []
  },
  {
   "cell_type": "code",
   "execution_count": 21,
   "metadata": {},
   "outputs": [],
   "source": [
    "#new data frame for columns I want to keep\n",
    "columns = ['ENTITY_NAME', 'PER_FREE_LUNCH', 'PER_LEP', 'PER_AM_IND', 'PER_BLACK', 'PER_HISP', 'PER_ASIAN', 'PER_WHITE', 'PER_Multi', 'PER_FEMALE', 'PER_MALE', 'PER_ECDIS', 'PER_EQUIV', 'PER_TOTALNON', 'RiskLevel']\n",
    "\n",
    "df2 = df1[columns]"
   ]
  },
  {
   "cell_type": "code",
   "execution_count": 22,
   "metadata": {},
   "outputs": [],
   "source": [
    "#np.nan_to_num(df2) "
   ]
  },
  {
   "cell_type": "code",
   "execution_count": 23,
   "metadata": {},
   "outputs": [
    {
     "data": {
      "text/html": [
       "<div>\n",
       "<style scoped>\n",
       "    .dataframe tbody tr th:only-of-type {\n",
       "        vertical-align: middle;\n",
       "    }\n",
       "\n",
       "    .dataframe tbody tr th {\n",
       "        vertical-align: top;\n",
       "    }\n",
       "\n",
       "    .dataframe thead th {\n",
       "        text-align: right;\n",
       "    }\n",
       "</style>\n",
       "<table border=\"1\" class=\"dataframe\">\n",
       "  <thead>\n",
       "    <tr style=\"text-align: right;\">\n",
       "      <th></th>\n",
       "      <th>ENTITY_NAME</th>\n",
       "      <th>PER_FREE_LUNCH</th>\n",
       "      <th>PER_LEP</th>\n",
       "      <th>PER_AM_IND</th>\n",
       "      <th>PER_BLACK</th>\n",
       "      <th>PER_HISP</th>\n",
       "      <th>PER_ASIAN</th>\n",
       "      <th>PER_WHITE</th>\n",
       "      <th>PER_Multi</th>\n",
       "      <th>PER_FEMALE</th>\n",
       "      <th>PER_MALE</th>\n",
       "      <th>PER_ECDIS</th>\n",
       "      <th>PER_EQUIV</th>\n",
       "      <th>PER_TOTALNON</th>\n",
       "      <th>RiskLevel</th>\n",
       "    </tr>\n",
       "  </thead>\n",
       "  <tbody>\n",
       "    <tr>\n",
       "      <th>0</th>\n",
       "      <td>NYC Public Schools</td>\n",
       "      <td>60</td>\n",
       "      <td>15</td>\n",
       "      <td>1</td>\n",
       "      <td>27</td>\n",
       "      <td>40</td>\n",
       "      <td>16</td>\n",
       "      <td>15</td>\n",
       "      <td>1</td>\n",
       "      <td>49.0</td>\n",
       "      <td>51.0</td>\n",
       "      <td>81.0</td>\n",
       "      <td>00</td>\n",
       "      <td>05</td>\n",
       "      <td>Mid-Risk</td>\n",
       "    </tr>\n",
       "    <tr>\n",
       "      <th>1</th>\n",
       "      <td>NYC Public Schools</td>\n",
       "      <td>60</td>\n",
       "      <td>15</td>\n",
       "      <td>1</td>\n",
       "      <td>27</td>\n",
       "      <td>40</td>\n",
       "      <td>16</td>\n",
       "      <td>15</td>\n",
       "      <td>1</td>\n",
       "      <td>49.0</td>\n",
       "      <td>51.0</td>\n",
       "      <td>81.0</td>\n",
       "      <td>00</td>\n",
       "      <td>05</td>\n",
       "      <td>Mid-Risk</td>\n",
       "    </tr>\n",
       "    <tr>\n",
       "      <th>2</th>\n",
       "      <td>NYC Public Schools</td>\n",
       "      <td>60</td>\n",
       "      <td>15</td>\n",
       "      <td>1</td>\n",
       "      <td>27</td>\n",
       "      <td>40</td>\n",
       "      <td>16</td>\n",
       "      <td>15</td>\n",
       "      <td>1</td>\n",
       "      <td>49.0</td>\n",
       "      <td>51.0</td>\n",
       "      <td>81.0</td>\n",
       "      <td>01</td>\n",
       "      <td>07</td>\n",
       "      <td>Mid-Risk</td>\n",
       "    </tr>\n",
       "    <tr>\n",
       "      <th>3</th>\n",
       "      <td>NYC Public Schools</td>\n",
       "      <td>60</td>\n",
       "      <td>15</td>\n",
       "      <td>1</td>\n",
       "      <td>27</td>\n",
       "      <td>40</td>\n",
       "      <td>16</td>\n",
       "      <td>15</td>\n",
       "      <td>1</td>\n",
       "      <td>49.0</td>\n",
       "      <td>51.0</td>\n",
       "      <td>81.0</td>\n",
       "      <td>01</td>\n",
       "      <td>05</td>\n",
       "      <td>Mid-Risk</td>\n",
       "    </tr>\n",
       "    <tr>\n",
       "      <th>4</th>\n",
       "      <td>NYC Public Schools</td>\n",
       "      <td>60</td>\n",
       "      <td>15</td>\n",
       "      <td>1</td>\n",
       "      <td>27</td>\n",
       "      <td>40</td>\n",
       "      <td>16</td>\n",
       "      <td>15</td>\n",
       "      <td>1</td>\n",
       "      <td>49.0</td>\n",
       "      <td>51.0</td>\n",
       "      <td>81.0</td>\n",
       "      <td>01</td>\n",
       "      <td>05</td>\n",
       "      <td>Mid-Risk</td>\n",
       "    </tr>\n",
       "    <tr>\n",
       "      <th>...</th>\n",
       "      <td>...</td>\n",
       "      <td>...</td>\n",
       "      <td>...</td>\n",
       "      <td>...</td>\n",
       "      <td>...</td>\n",
       "      <td>...</td>\n",
       "      <td>...</td>\n",
       "      <td>...</td>\n",
       "      <td>...</td>\n",
       "      <td>...</td>\n",
       "      <td>...</td>\n",
       "      <td>...</td>\n",
       "      <td>...</td>\n",
       "      <td>...</td>\n",
       "      <td>...</td>\n",
       "    </tr>\n",
       "    <tr>\n",
       "      <th>154928</th>\n",
       "      <td>SODUS HIGH SCHOOL</td>\n",
       "      <td>26</td>\n",
       "      <td>2</td>\n",
       "      <td>0</td>\n",
       "      <td>14</td>\n",
       "      <td>12</td>\n",
       "      <td>0</td>\n",
       "      <td>70</td>\n",
       "      <td>4</td>\n",
       "      <td>49.0</td>\n",
       "      <td>51.0</td>\n",
       "      <td>45.0</td>\n",
       "      <td>00</td>\n",
       "      <td>02</td>\n",
       "      <td>Low-Risk</td>\n",
       "    </tr>\n",
       "    <tr>\n",
       "      <th>154931</th>\n",
       "      <td>EARLY COLLEGE HIGH SCHOOL</td>\n",
       "      <td>79</td>\n",
       "      <td>10</td>\n",
       "      <td>0</td>\n",
       "      <td>34</td>\n",
       "      <td>49</td>\n",
       "      <td>4</td>\n",
       "      <td>11</td>\n",
       "      <td>1</td>\n",
       "      <td>47.0</td>\n",
       "      <td>53.0</td>\n",
       "      <td>87.0</td>\n",
       "      <td>02</td>\n",
       "      <td>04</td>\n",
       "      <td>Low-Risk</td>\n",
       "    </tr>\n",
       "    <tr>\n",
       "      <th>154934</th>\n",
       "      <td>GRACE DODGE CAREER AND TECHNICAL HIGH SCHOOL</td>\n",
       "      <td>69</td>\n",
       "      <td>26</td>\n",
       "      <td>0</td>\n",
       "      <td>20</td>\n",
       "      <td>76</td>\n",
       "      <td>2</td>\n",
       "      <td>2</td>\n",
       "      <td>0</td>\n",
       "      <td>56.0</td>\n",
       "      <td>44.0</td>\n",
       "      <td>69.0</td>\n",
       "      <td>02</td>\n",
       "      <td>37</td>\n",
       "      <td>High-Risk</td>\n",
       "    </tr>\n",
       "    <tr>\n",
       "      <th>154935</th>\n",
       "      <td>GRACE DODGE CAREER AND TECHNICAL HIGH SCHOOL</td>\n",
       "      <td>69</td>\n",
       "      <td>26</td>\n",
       "      <td>0</td>\n",
       "      <td>20</td>\n",
       "      <td>76</td>\n",
       "      <td>2</td>\n",
       "      <td>2</td>\n",
       "      <td>0</td>\n",
       "      <td>56.0</td>\n",
       "      <td>44.0</td>\n",
       "      <td>69.0</td>\n",
       "      <td>03</td>\n",
       "      <td>37</td>\n",
       "      <td>High-Risk</td>\n",
       "    </tr>\n",
       "    <tr>\n",
       "      <th>154936</th>\n",
       "      <td>GRACE DODGE CAREER AND TECHNICAL HIGH SCHOOL</td>\n",
       "      <td>69</td>\n",
       "      <td>26</td>\n",
       "      <td>0</td>\n",
       "      <td>20</td>\n",
       "      <td>76</td>\n",
       "      <td>2</td>\n",
       "      <td>2</td>\n",
       "      <td>0</td>\n",
       "      <td>56.0</td>\n",
       "      <td>44.0</td>\n",
       "      <td>69.0</td>\n",
       "      <td>00</td>\n",
       "      <td>36</td>\n",
       "      <td>High-Risk</td>\n",
       "    </tr>\n",
       "  </tbody>\n",
       "</table>\n",
       "<p>83327 rows × 15 columns</p>\n",
       "</div>"
      ],
      "text/plain": [
       "                                         ENTITY_NAME  PER_FREE_LUNCH  PER_LEP  \\\n",
       "0                                 NYC Public Schools              60       15   \n",
       "1                                 NYC Public Schools              60       15   \n",
       "2                                 NYC Public Schools              60       15   \n",
       "3                                 NYC Public Schools              60       15   \n",
       "4                                 NYC Public Schools              60       15   \n",
       "...                                              ...             ...      ...   \n",
       "154928                             SODUS HIGH SCHOOL              26        2   \n",
       "154931                     EARLY COLLEGE HIGH SCHOOL              79       10   \n",
       "154934  GRACE DODGE CAREER AND TECHNICAL HIGH SCHOOL              69       26   \n",
       "154935  GRACE DODGE CAREER AND TECHNICAL HIGH SCHOOL              69       26   \n",
       "154936  GRACE DODGE CAREER AND TECHNICAL HIGH SCHOOL              69       26   \n",
       "\n",
       "        PER_AM_IND  PER_BLACK  PER_HISP  PER_ASIAN  PER_WHITE  PER_Multi  \\\n",
       "0                1         27        40         16         15          1   \n",
       "1                1         27        40         16         15          1   \n",
       "2                1         27        40         16         15          1   \n",
       "3                1         27        40         16         15          1   \n",
       "4                1         27        40         16         15          1   \n",
       "...            ...        ...       ...        ...        ...        ...   \n",
       "154928           0         14        12          0         70          4   \n",
       "154931           0         34        49          4         11          1   \n",
       "154934           0         20        76          2          2          0   \n",
       "154935           0         20        76          2          2          0   \n",
       "154936           0         20        76          2          2          0   \n",
       "\n",
       "        PER_FEMALE  PER_MALE  PER_ECDIS PER_EQUIV PER_TOTALNON  RiskLevel  \n",
       "0             49.0      51.0       81.0        00           05   Mid-Risk  \n",
       "1             49.0      51.0       81.0        00           05   Mid-Risk  \n",
       "2             49.0      51.0       81.0        01           07   Mid-Risk  \n",
       "3             49.0      51.0       81.0        01           05   Mid-Risk  \n",
       "4             49.0      51.0       81.0        01           05   Mid-Risk  \n",
       "...            ...       ...        ...       ...          ...        ...  \n",
       "154928        49.0      51.0       45.0        00           02   Low-Risk  \n",
       "154931        47.0      53.0       87.0        02           04   Low-Risk  \n",
       "154934        56.0      44.0       69.0        02           37  High-Risk  \n",
       "154935        56.0      44.0       69.0        03           37  High-Risk  \n",
       "154936        56.0      44.0       69.0        00           36  High-Risk  \n",
       "\n",
       "[83327 rows x 15 columns]"
      ]
     },
     "execution_count": 23,
     "metadata": {},
     "output_type": "execute_result"
    }
   ],
   "source": [
    "df2"
   ]
  },
  {
   "cell_type": "code",
   "execution_count": null,
   "metadata": {},
   "outputs": [],
   "source": []
  },
  {
   "cell_type": "markdown",
   "metadata": {},
   "source": [
    "# Dealing with Null Rows"
   ]
  },
  {
   "cell_type": "code",
   "execution_count": 24,
   "metadata": {},
   "outputs": [
    {
     "name": "stdout",
     "output_type": "stream",
     "text": [
      "       ENTITY_NAME  PER_FREE_LUNCH  PER_LEP  PER_AM_IND  PER_BLACK  PER_HISP  \\\n",
      "0              NaN             NaN      NaN         NaN        NaN       NaN   \n",
      "1              NaN             NaN      NaN         NaN        NaN       NaN   \n",
      "2              NaN             NaN      NaN         NaN        NaN       NaN   \n",
      "3              NaN             NaN      NaN         NaN        NaN       NaN   \n",
      "4              NaN             NaN      NaN         NaN        NaN       NaN   \n",
      "...            ...             ...      ...         ...        ...       ...   \n",
      "154928         NaN             NaN      NaN         NaN        NaN       NaN   \n",
      "154931         NaN             NaN      NaN         NaN        NaN       NaN   \n",
      "154934         NaN             NaN      NaN         NaN        NaN       NaN   \n",
      "154935         NaN             NaN      NaN         NaN        NaN       NaN   \n",
      "154936         NaN             NaN      NaN         NaN        NaN       NaN   \n",
      "\n",
      "        PER_ASIAN  PER_WHITE  PER_Multi  PER_FEMALE  PER_MALE  PER_ECDIS  \\\n",
      "0             NaN        NaN        NaN         NaN       NaN        NaN   \n",
      "1             NaN        NaN        NaN         NaN       NaN        NaN   \n",
      "2             NaN        NaN        NaN         NaN       NaN        NaN   \n",
      "3             NaN        NaN        NaN         NaN       NaN        NaN   \n",
      "4             NaN        NaN        NaN         NaN       NaN        NaN   \n",
      "...           ...        ...        ...         ...       ...        ...   \n",
      "154928        NaN        NaN        NaN         NaN       NaN        NaN   \n",
      "154931        NaN        NaN        NaN         NaN       NaN        NaN   \n",
      "154934        NaN        NaN        NaN         NaN       NaN        NaN   \n",
      "154935        NaN        NaN        NaN         NaN       NaN        NaN   \n",
      "154936        NaN        NaN        NaN         NaN       NaN        NaN   \n",
      "\n",
      "       PER_EQUIV PER_TOTALNON RiskLevel  \n",
      "0            NaN          NaN       NaN  \n",
      "1            NaN          NaN       NaN  \n",
      "2            NaN          NaN       NaN  \n",
      "3            NaN          NaN       NaN  \n",
      "4            NaN          NaN       NaN  \n",
      "...          ...          ...       ...  \n",
      "154928       NaN          NaN       NaN  \n",
      "154931       NaN          NaN       NaN  \n",
      "154934       NaN          NaN       NaN  \n",
      "154935       NaN          NaN       NaN  \n",
      "154936       NaN          NaN       NaN  \n",
      "\n",
      "[83327 rows x 15 columns]\n"
     ]
    }
   ],
   "source": [
    "print(df2[df2.isnull()])"
   ]
  },
  {
   "cell_type": "code",
   "execution_count": 25,
   "metadata": {},
   "outputs": [
    {
     "name": "stdout",
     "output_type": "stream",
     "text": [
      "Count of na values in Column \"ENTITY_NAME\" is: 0\n",
      "Count of na values in Column \"PER_FREE_LUNCH\" is: 0\n",
      "Count of na values in Column \"PER_LEP\" is: 0\n",
      "Count of na values in Column \"PER_AM_IND\" is: 0\n",
      "Count of na values in Column \"PER_BLACK\" is: 0\n",
      "Count of na values in Column \"PER_HISP\" is: 0\n",
      "Count of na values in Column \"PER_ASIAN\" is: 0\n",
      "Count of na values in Column \"PER_WHITE\" is: 0\n",
      "Count of na values in Column \"PER_Multi\" is: 0\n",
      "Count of na values in Column \"PER_FEMALE\" is: 11525\n",
      "Count of na values in Column \"PER_MALE\" is: 11525\n",
      "Count of na values in Column \"PER_ECDIS\" is: 11525\n",
      "Count of na values in Column \"PER_EQUIV\" is: 0\n",
      "Count of na values in Column \"PER_TOTALNON\" is: 0\n",
      "Count of na values in Column \"RiskLevel\" is: 7262\n"
     ]
    }
   ],
   "source": [
    "for col in df2.columns:\n",
    "    # Select the column by name and get count of unique values in it\n",
    "    count = df2[col].isna().sum()\n",
    "    print(f'Count of na values in Column \"{col}\" is: {count}')"
   ]
  },
  {
   "cell_type": "code",
   "execution_count": 26,
   "metadata": {},
   "outputs": [],
   "source": [
    "#for row in df2.rows:\n",
    "    # Select the column by name and get count of unique values in it\n",
    "    #count = df2[row].nunique()\n",
    "    #print(f'Count of Unique values in Column \"{col}\" is: {count}')"
   ]
  },
  {
   "cell_type": "code",
   "execution_count": 27,
   "metadata": {},
   "outputs": [],
   "source": [
    "#anywhere that there is a missing value then we can drop from data frame and only keep obs that are complete\n",
    "\n"
   ]
  },
  {
   "cell_type": "code",
   "execution_count": 28,
   "metadata": {},
   "outputs": [],
   "source": [
    "subset = df2[df2.isnull().any(axis=1)]"
   ]
  },
  {
   "cell_type": "code",
   "execution_count": 29,
   "metadata": {},
   "outputs": [
    {
     "name": "stderr",
     "output_type": "stream",
     "text": [
      "<ipython-input-29-7ad13926227d>:1: SettingWithCopyWarning: \n",
      "A value is trying to be set on a copy of a slice from a DataFrame\n",
      "\n",
      "See the caveats in the documentation: https://pandas.pydata.org/pandas-docs/stable/user_guide/indexing.html#returning-a-view-versus-a-copy\n",
      "  df2.dropna(axis=0, how='any',thresh=None, subset=None, inplace=True)\n"
     ]
    }
   ],
   "source": [
    "df2.dropna(axis=0, how='any',thresh=None, subset=None, inplace=True)"
   ]
  },
  {
   "cell_type": "code",
   "execution_count": null,
   "metadata": {},
   "outputs": [],
   "source": []
  },
  {
   "cell_type": "code",
   "execution_count": 30,
   "metadata": {},
   "outputs": [],
   "source": [
    "df2.to_csv(path_or_buf = \"master_df\", header=True)"
   ]
  },
  {
   "cell_type": "code",
   "execution_count": 31,
   "metadata": {},
   "outputs": [
    {
     "data": {
      "text/plain": [
       "Low-Risk     35337\n",
       "Mid-Risk     20661\n",
       "High-Risk    10200\n",
       "Name: RiskLevel, dtype: int64"
      ]
     },
     "execution_count": 31,
     "metadata": {},
     "output_type": "execute_result"
    }
   ],
   "source": [
    "df2['RiskLevel'].value_counts()\n"
   ]
  },
  {
   "cell_type": "code",
   "execution_count": 32,
   "metadata": {},
   "outputs": [
    {
     "name": "stderr",
     "output_type": "stream",
     "text": [
      "/Users/samirachatrathi/opt/anaconda3/envs/learn-env/lib/python3.8/site-packages/seaborn/_decorators.py:36: FutureWarning: Pass the following variable as a keyword arg: x. From version 0.12, the only valid positional argument will be `data`, and passing other arguments without an explicit keyword will result in an error or misinterpretation.\n",
      "  warnings.warn(\n"
     ]
    },
    {
     "data": {
      "text/plain": [
       "<AxesSubplot:xlabel='RiskLevel', ylabel='count'>"
      ]
     },
     "execution_count": 32,
     "metadata": {},
     "output_type": "execute_result"
    },
    {
     "data": {
      "image/png": "[encoded data removed]",
      "text/plain": [
       "<Figure size 432x288 with 1 Axes>"
      ]
     },
     "metadata": {
      "needs_background": "light"
     },
     "output_type": "display_data"
    }
   ],
   "source": [
    "sns.countplot(df2['RiskLevel'])\n"
   ]
  },
  {
   "cell_type": "markdown",
   "metadata": {},
   "source": [
    "# Dummy Classifier/Baseline\n",
    "\n"
   ]
  },
  {
   "cell_type": "markdown",
   "metadata": {},
   "source": [
    "Since I am implementing a classification model, I will be using a Dummy classifier as my baseline model. Our classification metric is precision. It is important to consider the meaning of precision in this case and why it would be the most productive for this project. Precision encompasses the false positive rate, potentially marking a school high-risk when they are not. This would be a more important factor for two reasons. First, if we marked a school as high-risk for dropout when it isn't it would be better than leaving schools that are high risk un evaluated. Second, our ability to go and see which schools are low-risk will allow us to see which aspects of the school are productive and are leading to these lower levels of drop out rates. "
   ]
  },
  {
   "cell_type": "code",
   "execution_count": 33,
   "metadata": {},
   "outputs": [],
   "source": [
    "\n",
    "from sklearn.dummy import DummyClassifier\n",
    "from sklearn.model_selection import train_test_split\n",
    "from sklearn.metrics import precision_score\n",
    "\n",
    "\n",
    "df = pd.read_csv('master_df')\n"
   ]
  },
  {
   "cell_type": "code",
   "execution_count": 34,
   "metadata": {},
   "outputs": [],
   "source": [
    "#separating interested columns out into new dataframe\n",
    "demographics = ['PER_FREE_LUNCH', 'PER_LEP', 'PER_AM_IND', 'PER_BLACK', 'PER_HISP', 'PER_ASIAN', 'PER_WHITE', 'PER_Multi', 'PER_FEMALE', 'PER_MALE', 'PER_ECDIS', 'RiskLevel']\n",
    "\n",
    "df_dem = df[demographics]\n"
   ]
  },
  {
   "cell_type": "code",
   "execution_count": 35,
   "metadata": {},
   "outputs": [],
   "source": [
    "# Performing test-train split\n",
    "y = df_dem['RiskLevel']\n",
    "X = df_dem.drop(columns = ['RiskLevel'], axis = 1)\n",
    "\n",
    "X_train, X_test, y_train, y_test = train_test_split(X, y, test_size = 0.3, random_state = 42)\n",
    "\n"
   ]
  },
  {
   "cell_type": "code",
   "execution_count": 36,
   "metadata": {},
   "outputs": [],
   "source": [
    "# Performing dummy classification\n",
    "dem_clf = DummyClassifier(strategy=\"most_frequent\")\n",
    "dem_clf.fit(X_train, y_train)\n",
    "\n",
    "DummyClassifier(strategy='most_frequent');"
   ]
  },
  {
   "cell_type": "code",
   "execution_count": 37,
   "metadata": {},
   "outputs": [
    {
     "name": "stdout",
     "output_type": "stream",
     "text": [
      "Our dummy classifier has a precision of:       28.599999999999998%\n"
     ]
    }
   ],
   "source": [
    "# Scoring dummy classifier\n",
    "\n",
    "print(f'Our dummy classifier has a precision of: \\\n",
    "      {round(precision_score(y_train, dem_clf.predict(X_train), average = \"weighted\", zero_division=0),3)*100}%')"
   ]
  },
  {
   "cell_type": "markdown",
   "metadata": {},
   "source": [
    "# One Hot Encode and Decision Tree"
   ]
  },
  {
   "cell_type": "markdown",
   "metadata": {},
   "source": [
    "Undoubtedly, we must one hot encode, so that we have binary values. After we one hot encode, we can see which features are the most important to keep in our simple logistic regression with our decision tree. "
   ]
  },
  {
   "cell_type": "code",
   "execution_count": 38,
   "metadata": {},
   "outputs": [],
   "source": [
    "# Import relevant libraries\n",
    "from sklearn.preprocessing import OneHotEncoder\n",
    "from sklearn.tree import DecisionTreeClassifier, plot_tree"
   ]
  },
  {
   "cell_type": "code",
   "execution_count": 39,
   "metadata": {},
   "outputs": [],
   "source": [
    "# Encode the X_train and X_test dataframes\n",
    "ohe = OneHotEncoder(handle_unknown = 'ignore', sparse = False)\n",
    "\n",
    "# Encode train set\n",
    "X_train_ohe1 = ohe.fit_transform(X_train)\n",
    "X_train_ohe = pd.DataFrame(X_train_ohe1)\n",
    "X_train_ohe.columns = ohe.get_feature_names(X_train.columns)\n",
    "\n",
    "# Encode train set\n",
    "X_test_ohe1 = ohe.transform(X_test)\n",
    "X_test_ohe = pd.DataFrame(X_test_ohe1)\n",
    "X_test_ohe.columns = ohe.get_feature_names(X_test.columns)"
   ]
  },
  {
   "cell_type": "code",
   "execution_count": 40,
   "metadata": {
    "scrolled": true
   },
   "outputs": [
    {
     "data": {
      "text/plain": [
       "DecisionTreeClassifier(criterion='entropy', max_depth=3)"
      ]
     },
     "execution_count": 40,
     "metadata": {},
     "output_type": "execute_result"
    }
   ],
   "source": [
    "# Decision tree\n",
    "\n",
    "clf = DecisionTreeClassifier(criterion='entropy', max_depth = 3)\n",
    "\n",
    "clf.fit(X_train_ohe, y_train)"
   ]
  },
  {
   "cell_type": "markdown",
   "metadata": {},
   "source": [
    "\n"
   ]
  },
  {
   "cell_type": "code",
   "execution_count": 41,
   "metadata": {},
   "outputs": [
    {
     "data": {
      "image/png": "[encoded data removed]",
      "text/plain": [
       "<Figure size 900x900 with 1 Axes>"
      ]
     },
     "metadata": {
      "needs_background": "light"
     },
     "output_type": "display_data"
    }
   ],
   "source": [
    "\n",
    "\n",
    "fig, axes = plot.subplots(nrows = 1,ncols =1 , figsize = (3,3), dpi=300)\n",
    "plot_tree(clf,\n",
    "               feature_names = X_train_ohe.columns, \n",
    "               class_names=np.unique(y).astype('str'),\n",
    "               filled = True)\n",
    "plot.show()"
   ]
  },
  {
   "cell_type": "markdown",
   "metadata": {},
   "source": [
    "## Decision Tree Results"
   ]
  },
  {
   "cell_type": "markdown",
   "metadata": {},
   "source": [
    "#### Top 4 Features (all within the class low-risk)\n",
    "\n",
    "- Percentage of Multiracial Students\n",
    "- Percentage of Limited English Proficient Students\n",
    "- Percentage of American Indian or Alaskan Native Students\n",
    "- Percentage of Students Eligible for Free Lunch\n"
   ]
  },
  {
   "cell_type": "markdown",
   "metadata": {},
   "source": [
    "# First Simple Model"
   ]
  },
  {
   "cell_type": "code",
   "execution_count": 42,
   "metadata": {},
   "outputs": [],
   "source": [
    "from sklearn.linear_model import LogisticRegression"
   ]
  },
  {
   "cell_type": "code",
   "execution_count": 43,
   "metadata": {},
   "outputs": [],
   "source": [
    "# Column selection\n",
    "log_cols1 = ['PER_Multi', 'PER_FREE_LUNCH', 'PER_LEP', 'PER_AM_IND']\n",
    "\n",
    "logx_train = X_train[log_cols1]\n",
    "logx_test = X_test[log_cols1]"
   ]
  },
  {
   "cell_type": "code",
   "execution_count": 44,
   "metadata": {},
   "outputs": [],
   "source": [
    "# Encoding new frames\n",
    "x_train_ohe1 = ohe.fit_transform(logx_train)\n",
    "x_train_ohe = pd.DataFrame(x_train_ohe1)\n",
    "x_train_ohe.columns = ohe.get_feature_names(logx_train.columns)\n",
    "\n",
    "x_test_ohe1 = ohe.transform(logx_test)\n",
    "x_test_ohe = pd.DataFrame(x_test_ohe1)\n",
    "x_test_ohe.columns = ohe.get_feature_names(logx_test.columns)"
   ]
  },
  {
   "cell_type": "code",
   "execution_count": 45,
   "metadata": {},
   "outputs": [
    {
     "name": "stdout",
     "output_type": "stream",
     "text": [
      "Training precision:       62.56%\n",
      "Test precision:       61.83%\n"
     ]
    }
   ],
   "source": [
    "# Instantiate and perform logistic regression\n",
    "\n",
    "logreg = LogisticRegression(fit_intercept=False, C=1e12, solver='liblinear')\n",
    "\n",
    "logreg.fit(x_train_ohe, y_train)\n",
    "\n",
    "print(f\"Training precision: \\\n",
    "      {round(precision_score(y_train, logreg.predict(x_train_ohe), average='weighted', zero_division=0),4)*100}%\")\n",
    "print(f\"Test precision: \\\n",
    "      {round(precision_score(y_test, logreg.predict(x_test_ohe), average='weighted', zero_division=0),4)*100}%\")\n"
   ]
  },
  {
   "cell_type": "markdown",
   "metadata": {},
   "source": [
    "Let's consider adding the gender category within our predictor variables to see if it helps increase our precision score."
   ]
  },
  {
   "cell_type": "code",
   "execution_count": 46,
   "metadata": {},
   "outputs": [],
   "source": [
    "# Column selection\n",
    "log_cols2 = ['PER_MALE', 'PER_FEMALE', 'PER_Multi', 'PER_LEP', 'PER_AM_IND', 'PER_FREE_LUNCH']\n",
    "\n",
    "logx_train = X_train[log_cols2]\n",
    "logx_test = X_test[log_cols2]"
   ]
  },
  {
   "cell_type": "code",
   "execution_count": 47,
   "metadata": {},
   "outputs": [],
   "source": [
    "# Encoding new frames\n",
    "x_train_ohe1 = ohe.fit_transform(logx_train)\n",
    "x_train_ohe = pd.DataFrame(x_train_ohe1)\n",
    "x_train_ohe.columns = ohe.get_feature_names(logx_train.columns)\n",
    "\n",
    "x_test_ohe1 = ohe.transform(logx_test)\n",
    "x_test_ohe = pd.DataFrame(x_test_ohe1)\n",
    "x_test_ohe.columns = ohe.get_feature_names(logx_test.columns)"
   ]
  },
  {
   "cell_type": "code",
   "execution_count": 48,
   "metadata": {},
   "outputs": [
    {
     "name": "stdout",
     "output_type": "stream",
     "text": [
      "Training precision:       63.72%\n",
      "Test precision:       62.96000000000001%\n"
     ]
    }
   ],
   "source": [
    "# Instantiate and perform logistic regression\n",
    "\n",
    "logreg = LogisticRegression(fit_intercept=False, C=1e12, solver='liblinear')\n",
    "\n",
    "logreg.fit(x_train_ohe, y_train)\n",
    "\n",
    "print(f\"Training precision: \\\n",
    "      {round(precision_score(y_train, logreg.predict(x_train_ohe), average='weighted', zero_division=0),4)*100}%\")\n",
    "print(f\"Test precision: \\\n",
    "      {round(precision_score(y_test, logreg.predict(x_test_ohe), average='weighted', zero_division=0),4)*100}%\")\n"
   ]
  },
  {
   "cell_type": "markdown",
   "metadata": {},
   "source": [
    "Although our logistic regression model increases our precision, we still have ways to go. It is important to consider a different model type as a means of moving forward and improving precison."
   ]
  },
  {
   "cell_type": "markdown",
   "metadata": {},
   "source": [
    "# KNN Model\n",
    "\n",
    "Now that we have a baseline model with training and test precision of 63.72% and 62.96% respectively, we can now move to different iterations of our model where we increase our precision. Let's begin with a K Nearest Neighbors Model (KNN). KNN is a supervised classifciation algorithm that allows to see how sinilar a data point is to the surrounding data points' predicted outcome."
   ]
  },
  {
   "cell_type": "code",
   "execution_count": 49,
   "metadata": {},
   "outputs": [],
   "source": [
    "# Import relevant libraries\n",
    "from sklearn.neighbors import KNeighborsClassifier\n",
    "from sklearn.model_selection import KFold"
   ]
  },
  {
   "cell_type": "code",
   "execution_count": 50,
   "metadata": {},
   "outputs": [
    {
     "name": "stdout",
     "output_type": "stream",
     "text": [
      "Training precision:       75.0%\n",
      "Test precision:       71.0%\n"
     ]
    }
   ],
   "source": [
    "# Perform default KNN\n",
    "knn = KNeighborsClassifier()\n",
    "\n",
    "knn.fit(x_train_ohe, y_train)\n",
    "print(f\"Training precision: \\\n",
    "      {round(precision_score(y_train, knn.predict(x_train_ohe), average='weighted', zero_division=0),2)*100}%\")\n",
    "print(f\"Test precision: \\\n",
    "      {round(precision_score(y_test, knn.predict(x_test_ohe), average='weighted', zero_division=0),2)*100}%\")"
   ]
  },
  {
   "cell_type": "markdown",
   "metadata": {},
   "source": [
    "Now that we have increased our precision to 72%, we can look to see which hyperparameters we can tune to get an even more accurate model. In this case we will use a K-fold to determine the best n_neighbors. "
   ]
  },
  {
   "cell_type": "code",
   "execution_count": 51,
   "metadata": {},
   "outputs": [],
   "source": [
    "# Kfold to determine best n_neighbors\n",
    "\n",
    "kf = KFold(n_splits=2)\n",
    "\n",
    "k_scores_train = {}\n",
    "k_scores_val = {}\n",
    "\n",
    "\n",
    "for k in range(10, 16):\n",
    "    knn = KNeighborsClassifier(n_neighbors=k)\n",
    "    precision_score_t = []\n",
    "    precision_score_v = []\n",
    "    for train_ind, val_ind in kf.split(X_train, y_train):\n",
    "        \n",
    "        X_tb, y_tb = X_train.iloc[train_ind], y_train.iloc[train_ind] \n",
    "        X_vb, y_vb = X_train.iloc[val_ind], y_train.iloc[val_ind]\n",
    "        \n",
    "        X_t_ind = X_tb.index\n",
    "        X_v_ind = X_vb.index\n",
    "        \n",
    "        X_tb = pd.DataFrame(ohe.fit_transform(X_tb))\n",
    "        X_tb.index = X_t_ind\n",
    "        X_vb = pd.DataFrame(ohe.transform(X_vb))\n",
    "        X_vb.index = X_v_ind\n",
    "        \n",
    "        knn.fit(X_tb, y_tb)\n",
    "        \n",
    "        y_pred_tb = knn.predict(X_tb)\n",
    "        y_pred_vb = knn.predict(X_vb)\n",
    "        \n",
    "        precision_score_t.append(precision_score(y_tb, y_pred_tb, average='weighted', zero_division=0))\n",
    "        precision_score_v.append(precision_score(y_vb, y_pred_vb, average='weighted', zero_division=0))\n",
    "        \n",
    "        \n",
    "    k_scores_train[k] = np.mean(precision_score_t)\n",
    "    k_scores_val[k] = np.mean(precision_score_v)"
   ]
  },
  {
   "cell_type": "code",
   "execution_count": 52,
   "metadata": {},
   "outputs": [
    {
     "data": {
      "image/png": "[encoded data removed]",
      "text/plain": [
       "<Figure size 720x720 with 1 Axes>"
      ]
     },
     "metadata": {
      "needs_background": "light"
     },
     "output_type": "display_data"
    }
   ],
   "source": [
    "# displaying k-fold results\n",
    "fig, ax = plot.subplots(figsize=(10, 10))\n",
    "\n",
    "ax.plot(list(k_scores_train.keys()), list(k_scores_train.values()),\n",
    "        color='red', linestyle='dashed', marker='o',  \n",
    "         markerfacecolor='blue', markersize=10, label='Train')\n",
    "ax.plot(list(k_scores_val.keys()), list(k_scores_val.values()),\n",
    "        color='green', linestyle='dashed', marker='o',  \n",
    "         markerfacecolor='blue', markersize=10, label='Val')\n",
    "ax.set_xlabel('Number of Nearest Neighbors')\n",
    "ax.set_ylabel('Precision')\n",
    "plot.legend();"
   ]
  },
  {
   "cell_type": "code",
   "execution_count": 53,
   "metadata": {},
   "outputs": [
    {
     "name": "stdout",
     "output_type": "stream",
     "text": [
      "Training precision:       75.0%\n",
      "Test precision:       71.0%\n"
     ]
    }
   ],
   "source": [
    "# iterated version\n",
    "knn = KNeighborsClassifier(n_neighbors=10, n_jobs = -1)\n",
    "\n",
    "knn.fit(x_train_ohe, y_train)\n",
    "print(f\"Training precision: \\\n",
    "      {round(precision_score(y_train, knn.predict(x_train_ohe), average='weighted', zero_division=0),2)*100}%\")\n",
    "print(f\"Test precision: \\\n",
    "      {round(precision_score(y_test, knn.predict(x_test_ohe), average='weighted', zero_division=0),2)*100}%\")\n",
    "\n"
   ]
  },
  {
   "cell_type": "markdown",
   "metadata": {},
   "source": [
    "As shown above, I decided to tune the hyperparameter, number of nearest neighbors, to equal 10. This increased the training and test precision to 71%. This is 1% higher than the default level before.  "
   ]
  },
  {
   "cell_type": "code",
   "execution_count": 54,
   "metadata": {},
   "outputs": [
    {
     "name": "stdout",
     "output_type": "stream",
     "text": [
      "Training precision:       75.0%\n",
      "Test precision:       71.0%\n"
     ]
    }
   ],
   "source": [
    "# iterated version\n",
    "knn = KNeighborsClassifier(n_neighbors=10, n_jobs = -1, leaf_size = 3, p =1)\n",
    "\n",
    "knn.fit(x_train_ohe, y_train)\n",
    "print(f\"Training precision: \\\n",
    "      {round(precision_score(y_train, knn.predict(x_train_ohe), average='weighted', zero_division=0),2)*100}%\")\n",
    "print(f\"Test precision: \\\n",
    "      {round(precision_score(y_test, knn.predict(x_test_ohe), average='weighted', zero_division=0),2)*100}%\")"
   ]
  },
  {
   "cell_type": "code",
   "execution_count": null,
   "metadata": {},
   "outputs": [],
   "source": [
    "from sklearn.model_selection import GridSearchCV\n",
    "\n",
    "#List Hyperparameters that we want to tune.\n",
    "leaf_size = [3,5,10,15]\n",
    "n_neighbors = [3,5,7,10]\n",
    "p=[1,2]\n",
    "#Convert to dictionary\n",
    "hyperparameters = dict(leaf_size=leaf_size, n_neighbors=n_neighbors, p=p)\n",
    "#Create new KNN object\n",
    "knn_2 = KNeighborsClassifier(n_jobs = -1)\n",
    "#Use GridSearch\n",
    "clf = GridSearchCV(knn_2, hyperparameters, cv=10)\n",
    "#Fit the model\n",
    "best_model = clf.fit(x_train_ohe ,y_train)\n",
    "#Print The value of best Hyperparameters\n",
    "print('Best leaf_size:', best_model.best_estimator_.get_params()['leaf_size'])\n",
    "print('Best p:', best_model.best_estimator_.get_params()['p'])\n",
    "print('Best n_neighbors:', best_model.best_estimator_.get_params()['n_neighbors'])"
   ]
  },
  {
   "cell_type": "markdown",
   "metadata": {},
   "source": [
    "## Conclusion\n",
    "This modeling project is just the beginning to the long and iterative process of helping the education system. As we work as a community to support students from all backgrounds we should consider more factors that would potentially effect the direction of students in the public school system. I have three main considerations for future research:\n",
    "\n",
    "1. Iterate this initial model by incorporating a mental health feature that determines the status of overall mental health for students within the school.\n",
    "2. Implement the High School Risk Survey that examines risk behaviors such as smoking, alcohol/drug use, and eating disorders.\n",
    "3. Monitor changes in dropout rates compared to that of an online learning environment\n",
    "\n",
    "Ultimately, in this classification modeling process, I was able to reach 75% precision in the model at predicting which dropout risk-level a student would be based on a wide-array of demographic factors. I hope to continue this process to further understand the complexity of a student's experience in the American education system."
   ]
  },
  {
   "cell_type": "code",
   "execution_count": null,
   "metadata": {},
   "outputs": [],
   "source": []
  }
 ],
 "metadata": {
  "kernelspec": {
   "display_name": "Python 3",
   "language": "python",
   "name": "python3"
  },
  "language_info": {
   "codemirror_mode": {
    "name": "ipython",
    "version": 3
   },
   "file_extension": ".py",
   "mimetype": "text/x-python",
   "name": "python",
   "nbconvert_exporter": "python",
   "pygments_lexer": "ipython3",
   "version": "3.8.5"
  }
 },
 "nbformat": 4,
 "nbformat_minor": 4
}
